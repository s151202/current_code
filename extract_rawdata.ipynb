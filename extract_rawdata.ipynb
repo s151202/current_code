{
 "cells": [
  {
   "cell_type": "code",
   "execution_count": 2,
   "metadata": {},
   "outputs": [],
   "source": [
    "import sys\n",
    "import pickle\n",
    "import scipy\n",
    "from scipy import signal\n",
    "from scipy import stats\n",
    "import numpy as np\n",
    "from sklearn.model_selection import ShuffleSplit\n",
    "from sklearn.metrics import cohen_kappa_score\n",
    "\n",
    "import math\n",
    "from collections import OrderedDict\n",
    "\n",
    "\n",
    "import matplotlib.pyplot as plt\n",
    "\n",
    "sys.path.append('D:\\Diamond\\code')\n",
    "from csp_james_2 import *\n",
    "\n",
    "sys.path.append('D:\\Diamond\\code')\n",
    "from thesis_funcs_19_03 import *\n",
    "\n",
    "import torch\n",
    "import torch.nn as nn\n",
    "import torch.nn.functional as nnF\n",
    "import torch.optim as optim\n",
    "from torch.autograd import Variable\n",
    "\n",
    "from torch.optim import lr_scheduler\n",
    "\n",
    "import csv\n",
    "from random import randint\n",
    "import random\n",
    "import datetime"
   ]
  },
  {
   "cell_type": "code",
   "execution_count": 18,
   "metadata": {},
   "outputs": [],
   "source": [
    "to_save = 0"
   ]
  },
  {
   "cell_type": "code",
   "execution_count": 15,
   "metadata": {},
   "outputs": [
    {
     "name": "stdout",
     "output_type": "stream",
     "text": [
      "run 0 is empty\n",
      "run 1 is empty\n",
      "run 2 is empty\n",
      "run 0 is empty\n",
      "run 1 is empty\n",
      "run 2 is empty\n",
      "run 0 is empty\n",
      "run 1 is empty\n",
      "run 2 is empty\n",
      "run 0 is empty\n",
      "run 1 is empty\n",
      "run 2 is empty\n"
     ]
    }
   ],
   "source": [
    "dir_raw_data = 'E:\\\\Diamond\\\\bci_iv\\\\DATA\\\\2a\\\\matlab_raw\\\\'\n",
    "\n",
    "for subject in range (1,3):\n",
    "    for ses in ['T','E']:\n",
    "        sub = 'A0' + str(subject) + ses\n",
    "        fileroot = dir_raw_data + sub + '.mat'\n",
    "\n",
    "        raw_mat_data = scipy.io.loadmat(fileroot)['data']\n",
    "\n",
    "\n",
    "        #ind = 7 #0 = raw data, 1=start ind, 2=lables, 3 = fs, 4 = labels meaning, 5=artifects, 6=sex, 7=age\n",
    "        num_ch = 22\n",
    "        num_seconds = 7 #startof trial to 1s after end of MI\n",
    "        virgin = 1\n",
    "\n",
    "        num_runs = np.shape(raw_mat_data)[1]\n",
    "        for tr in range (0,num_runs): #actually \"tr\" should be \"run\", represents the 6 runs of recordings, each run has 48 trials\n",
    "            if any(raw_mat_data[0][tr][0][0][1] ):\n",
    "                #for each run (total of 7 or 6), extract eeg and labels\n",
    "                #raw_eeg, raw recording, all the trails form all channels\n",
    "                raw_eeg = raw_mat_data[0][tr][0][0][0]\n",
    "                #sampling frequency, 250Hz\n",
    "                fs = float(raw_mat_data[0][tr][0][0][3])\n",
    "\n",
    "                #index of trails without artefects\n",
    "                good_ind = np.where(raw_mat_data[0][tr][0][0][5] == 0)[0]\n",
    "\n",
    "                #trail start time(ind) position for the good trials\n",
    "                start_ind = raw_mat_data[0][tr][0][0][1].squeeze()\n",
    "                start_ind = start_ind[good_ind]\n",
    "\n",
    "                #good trials labels\n",
    "                LABELS = raw_mat_data[0][tr][0][0][2].squeeze()\n",
    "                LABELS = LABELS[good_ind]\n",
    "\n",
    "                #initiating matrix to store sepereated eeg trails, for the 22 eeg channels\n",
    "                EEG_raw = np.zeros((len(good_ind), num_ch, int(fs*num_seconds)))\n",
    "\n",
    "                #for eahc good trail, extract it from raw recording and store into EEG_raw matrix, in shape num_trials X num_chanels X num_time\n",
    "                for i in range (0, len(good_ind)):\n",
    "                    EEG_raw[i] = np.transpose(raw_eeg[start_ind[i]:start_ind[i]+int(7*fs), 0:22])\n",
    "\n",
    "                if virgin:\n",
    "                    EEG_RAW = EEG_raw\n",
    "                    LABELS_RAW = LABELS\n",
    "                    virgin = 0\n",
    "                elif virgin == 0:\n",
    "                    EEG_RAW = np.concatenate((EEG_RAW, EEG_raw), axis = 0)\n",
    "                    LABELS_RAW = np.concatenate((LABELS_RAW, LABELS), axis = 0)\n",
    "            else:\n",
    "                print ('run ' + str(tr) + ' is empty')\n",
    "\n",
    "\n",
    "        \n",
    "        if to_save == 1:\n",
    "            pickle.dump( EEG_RAW, open('E:\\\\Diamond\\\\bci_iv\\\\DATA\\\\2a\\\\extract_raw\\\\' + sub + \".pickle\", \"wb\" ) )\n",
    "            pickle.dump( LABELS_RAW, open('E:\\\\Diamond\\\\bci_iv\\\\DATA\\\\2a\\\\extract_raw\\\\' + sub + \"_LABELS.pickle\", \"wb\" ) )"
   ]
  },
  {
   "cell_type": "code",
   "execution_count": 10,
   "metadata": {},
   "outputs": [],
   "source": []
  },
  {
   "cell_type": "code",
   "execution_count": 17,
   "metadata": {},
   "outputs": [
    {
     "data": {
      "text/plain": [
       "((283, 22, 1750), (283,))"
      ]
     },
     "execution_count": 17,
     "metadata": {},
     "output_type": "execute_result"
    }
   ],
   "source": [
    "np.shape(EEG_RAW), np.shape(LABELS_RAW)"
   ]
  },
  {
   "cell_type": "code",
   "execution_count": null,
   "metadata": {},
   "outputs": [],
   "source": []
  }
 ],
 "metadata": {
  "kernelspec": {
   "display_name": "Python 3",
   "language": "python",
   "name": "python3"
  },
  "language_info": {
   "codemirror_mode": {
    "name": "ipython",
    "version": 3
   },
   "file_extension": ".py",
   "mimetype": "text/x-python",
   "name": "python",
   "nbconvert_exporter": "python",
   "pygments_lexer": "ipython3",
   "version": "3.7.1"
  }
 },
 "nbformat": 4,
 "nbformat_minor": 2
}
